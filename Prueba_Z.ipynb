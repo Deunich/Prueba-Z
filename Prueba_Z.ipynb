{
  "cells": [
    {
      "cell_type": "markdown",
      "metadata": {
        "id": "view-in-github",
        "colab_type": "text"
      },
      "source": [
        "<a href=\"https://colab.research.google.com/github/Deunich/Prueba-Z/blob/main/Prueba_Z.ipynb\" target=\"_parent\"><img src=\"https://colab.research.google.com/assets/colab-badge.svg\" alt=\"Open In Colab\"/></a>"
      ]
    },
    {
      "cell_type": "markdown",
      "id": "6abcd553",
      "metadata": {
        "id": "6abcd553"
      },
      "source": [
        "##### -En los negocios, hay tantas decisiones que se deben tomar todos los días, en lugar de tomarlas por corazonada, hacer experimentos y crear hipótesis es un enfoque más centrado en los datos para tomar decisiones en los negocios.\n"
      ]
    },
    {
      "cell_type": "markdown",
      "id": "e2659023",
      "metadata": {
        "id": "e2659023"
      },
      "source": [
        "# Prueba de hipótesis"
      ]
    },
    {
      "cell_type": "markdown",
      "id": "564f92e7",
      "metadata": {
        "id": "564f92e7"
      },
      "source": [
        "- La hipótesis es un mecanismo para tomar decisiones en estadística inferencial. Ayuda a probar o desaprobar las afirmaciones que se están probando.\n",
        "- La prueba de hipótesis también ayuda a crear la estructura del enunciado del problema.\n",
        "- El proceso proporciona evidencia concluyente para tomar decisiones basadas en el resultado dado por este método."
      ]
    },
    {
      "cell_type": "markdown",
      "id": "9c37f63c",
      "metadata": {
        "id": "9c37f63c"
      },
      "source": [
        "Hipótesis estadística: cuando un investigador ya tiene una idea sobre el resultado, incluso antes de realizar el experimento. La hipótesis estadística proporciona un marco estructural estándar para trabajar en el problema y tomar una decisión centrada en los datos.\n",
        "\n",
        "La hipótesis estadística consta de 2 partes:\n",
        "\n",
        "1. Hipótesis nula $H_{o}$\n",
        "2. Hipótesis alterna $H_{a}$\n",
        "\n",
        "La hipótesis nula establece que existe la condición 'Nula', lo que significa que la declaración que se ha dicho está sucediendo, no sucede nada nuevo, las viejas creencias son verdaderas.\n",
        "\n",
        "La hipótesis alternativa establece que la nueva teoría es verdadera o que algo nuevo está sucediendo, las viejas creencias no son verdaderas.\n"
      ]
    },
    {
      "cell_type": "markdown",
      "id": "7dcf9f34",
      "metadata": {
        "id": "7dcf9f34"
      },
      "source": [
        "# Ejemplo"
      ]
    },
    {
      "cell_type": "markdown",
      "id": "0c0f4e0a",
      "metadata": {
        "ExecuteTime": {
          "end_time": "2022-11-01T23:15:56.717554Z",
          "start_time": "2022-11-01T23:15:56.711329Z"
        },
        "id": "0c0f4e0a"
      },
      "source": [
        "Censo de altura entre estudiantes con una muestra poblacional de 30 personas, la media de la altuna que se obtuvo fue 160 cm. Cual es la regla de desición"
      ]
    },
    {
      "cell_type": "markdown",
      "id": "605758e6",
      "metadata": {
        "ExecuteTime": {
          "end_time": "2022-11-01T23:16:50.879361Z",
          "start_time": "2022-11-01T23:16:50.870311Z"
        },
        "id": "605758e6"
      },
      "source": [
        "$H_{o} = 160$\n",
        "\n",
        "$H_{a} \\ne 160$"
      ]
    },
    {
      "cell_type": "markdown",
      "id": "e08ad7d7",
      "metadata": {
        "id": "e08ad7d7"
      },
      "source": [
        "En general, si se va a proponer algo nuevo, se define en la hipótesis Alternativa\n"
      ]
    },
    {
      "cell_type": "markdown",
      "id": "0b169fb9",
      "metadata": {
        "id": "0b169fb9"
      },
      "source": [
        "#### Ejemplo de granta Piscícola (longitud o tamaño de en pulgadas de los peces)"
      ]
    },
    {
      "cell_type": "markdown",
      "id": "2307db13",
      "metadata": {
        "id": "2307db13"
      },
      "source": [
        "$H_{o} \\underline< 15$\n",
        "\n",
        "$H_{a}  > 15$"
      ]
    },
    {
      "cell_type": "markdown",
      "id": "ec2989ee",
      "metadata": {
        "id": "ec2989ee"
      },
      "source": [
        "El tamaño determina el valor en dolares\n",
        "\n",
        "$H_{o} = 4$\n",
        "\n",
        "$H_{a}  > 4$"
      ]
    },
    {
      "cell_type": "markdown",
      "id": "a0d9c35b",
      "metadata": {
        "id": "a0d9c35b"
      },
      "source": [
        "# Test de probabilidad estadistica"
      ]
    },
    {
      "cell_type": "markdown",
      "id": "557dd4fe",
      "metadata": {
        "ExecuteTime": {
          "end_time": "2022-11-01T23:53:17.900309Z",
          "start_time": "2022-11-01T23:53:17.880547Z"
        },
        "id": "557dd4fe"
      },
      "source": [
        "\n",
        "Basado en pocas informaciones basadas en 2 ejemplos, la hipótesis estadística se puede definir en 2 pruebas:\n",
        "1. Hipótesis de dos colas: las declaraciones no tienen dirección\n",
        "$$H_{o}: \\space \\space  \\mu = 160$$\n",
        "$$H_{a}: \\space \\space  \\mu \\ne 160$$\n",
        "\n",
        "este proceso necesita más investigación sobre la dirección de la prueba\n",
        "\n",
        "\n",
        "2. Pruebas de una cola: Las declaraciones de hipótesis tienen una dirección\n",
        "$$H_{o}: \\space \\space  longitud = 15$$\n",
        "$$H_{a}: \\space \\space  longitud > 15$$\n",
        "\n",
        "estas pruebas se usan solo cuando el investigador está seguro de que el resultado de la prueba sería mayor que la información preaprendida\n"
      ]
    },
    {
      "cell_type": "markdown",
      "id": "acb5e2b6",
      "metadata": {
        "id": "acb5e2b6"
      },
      "source": [
        "Si se rechaza la Hipótesis Nula y por lo tanto se acepta la Hipótesis Alternativa, se dice que se ha obtenido un resultado estadísticamente significativo, en palabras más sencillas, el resultado obtenido no es pura suerte y se ha tomado la decisión de rechazar la Hipótesis Nula.\n",
        "\n",
        "En nuestro ejemplo, 2.1 es estadísticamente significativo más alto que 2, pero para los negocios podría no ser significativo como resultado, por lo que se debe tener cuidado al interpretar los resultados de las pruebas estadísticas.\n",
        "\n",
        "El resultado de la prueba depende de la muestra en consideración, también si un ligero cambio es un resultado sustantivo o no, dependería completamente del caso de uso o del investigador."
      ]
    },
    {
      "cell_type": "markdown",
      "id": "472e7188",
      "metadata": {
        "id": "472e7188"
      },
      "source": [
        "# Tipo de error I y II"
      ]
    },
    {
      "cell_type": "markdown",
      "id": "94d9f4fc",
      "metadata": {
        "id": "94d9f4fc"
      },
      "source": [
        "- Se comete un error tipo l al rechazar una hipótesis nula verdadera.\n",
        "- Se comete un error de tipo II cuando un investigador empresarial no puede rechazar una hipótesis nula falsa"
      ]
    },
    {
      "cell_type": "markdown",
      "id": "41fd7ca7",
      "metadata": {
        "id": "41fd7ca7"
      },
      "source": [
        "Tipo de error I  ${\\alpha}$\n",
        "\n",
        "Tipo de error II ${\\beta}$\n",
        "\n",
        "alfa solo puede cometerse cuando se rechaza la hipótesis nula y beta solo puede cometerse cuando no se rechaza la hipótesis nula, un investigador empresarial no puede cometer un error de tipo I y un error de tipo II al mismo tiempo en la misma prueba de hipótesis\n",
        "\n",
        "beta ocurre solo cuando la hipótesis nula no es verdadera, el cálculo de beta varía\n",
        "con los muchos parámetros alternativos posibles que podrían ocurrir."
      ]
    },
    {
      "cell_type": "code",
      "execution_count": null,
      "id": "074a8d1f",
      "metadata": {
        "id": "074a8d1f"
      },
      "outputs": [],
      "source": []
    },
    {
      "cell_type": "code",
      "execution_count": null,
      "id": "5f2fdb77",
      "metadata": {
        "ExecuteTime": {
          "end_time": "2022-11-03T17:24:59.762141Z",
          "start_time": "2022-11-03T17:24:51.513909Z"
        },
        "id": "5f2fdb77"
      },
      "outputs": [],
      "source": [
        "import pandas as pd\n",
        "import numpy as np\n",
        "\n",
        "#llamamos scipy para el proposito estadistico\n",
        "\n",
        "from scipy import stats\n",
        "from statsmodels.stats import weightstats as stests"
      ]
    },
    {
      "cell_type": "markdown",
      "id": "56f4fbc1",
      "metadata": {
        "id": "56f4fbc1"
      },
      "source": [
        "#### Cargaremos los datos"
      ]
    },
    {
      "cell_type": "code",
      "execution_count": null,
      "id": "5f22126d",
      "metadata": {
        "ExecuteTime": {
          "end_time": "2022-11-03T17:24:59.835217Z",
          "start_time": "2022-11-03T17:24:59.764200Z"
        },
        "id": "5f22126d"
      },
      "outputs": [],
      "source": [
        "data = pd.read_excel('/Users/juancamilosierra/Desktop/Clases/Segundo Semestre/Econometria 1/Parcial 1/wage2.xls')"
      ]
    },
    {
      "cell_type": "code",
      "execution_count": null,
      "id": "249a0927",
      "metadata": {
        "ExecuteTime": {
          "end_time": "2022-11-03T17:24:59.852719Z",
          "start_time": "2022-11-03T17:24:59.836421Z"
        },
        "id": "249a0927",
        "outputId": "38cd628c-07d7-4db7-ade1-5366c08a43ec"
      },
      "outputs": [
        {
          "data": {
            "text/html": [
              "<div>\n",
              "<style scoped>\n",
              "    .dataframe tbody tr th:only-of-type {\n",
              "        vertical-align: middle;\n",
              "    }\n",
              "\n",
              "    .dataframe tbody tr th {\n",
              "        vertical-align: top;\n",
              "    }\n",
              "\n",
              "    .dataframe thead th {\n",
              "        text-align: right;\n",
              "    }\n",
              "</style>\n",
              "<table border=\"1\" class=\"dataframe\">\n",
              "  <thead>\n",
              "    <tr style=\"text-align: right;\">\n",
              "      <th></th>\n",
              "      <th>wage</th>\n",
              "      <th>hours</th>\n",
              "      <th>IQ</th>\n",
              "      <th>KWW</th>\n",
              "      <th>educ</th>\n",
              "      <th>exper</th>\n",
              "      <th>tenure</th>\n",
              "      <th>age</th>\n",
              "      <th>married</th>\n",
              "      <th>black</th>\n",
              "      <th>south</th>\n",
              "      <th>urban</th>\n",
              "      <th>sibs</th>\n",
              "      <th>brthord</th>\n",
              "      <th>meduc</th>\n",
              "      <th>feduc</th>\n",
              "    </tr>\n",
              "  </thead>\n",
              "  <tbody>\n",
              "    <tr>\n",
              "      <th>0</th>\n",
              "      <td>769</td>\n",
              "      <td>40</td>\n",
              "      <td>93</td>\n",
              "      <td>35</td>\n",
              "      <td>12</td>\n",
              "      <td>11</td>\n",
              "      <td>2</td>\n",
              "      <td>31</td>\n",
              "      <td>1</td>\n",
              "      <td>0</td>\n",
              "      <td>0</td>\n",
              "      <td>1</td>\n",
              "      <td>1</td>\n",
              "      <td>2</td>\n",
              "      <td>8</td>\n",
              "      <td>8</td>\n",
              "    </tr>\n",
              "    <tr>\n",
              "      <th>1</th>\n",
              "      <td>808</td>\n",
              "      <td>50</td>\n",
              "      <td>119</td>\n",
              "      <td>41</td>\n",
              "      <td>18</td>\n",
              "      <td>11</td>\n",
              "      <td>16</td>\n",
              "      <td>37</td>\n",
              "      <td>1</td>\n",
              "      <td>0</td>\n",
              "      <td>0</td>\n",
              "      <td>1</td>\n",
              "      <td>1</td>\n",
              "      <td>.</td>\n",
              "      <td>14</td>\n",
              "      <td>14</td>\n",
              "    </tr>\n",
              "    <tr>\n",
              "      <th>2</th>\n",
              "      <td>825</td>\n",
              "      <td>40</td>\n",
              "      <td>108</td>\n",
              "      <td>46</td>\n",
              "      <td>14</td>\n",
              "      <td>11</td>\n",
              "      <td>9</td>\n",
              "      <td>33</td>\n",
              "      <td>1</td>\n",
              "      <td>0</td>\n",
              "      <td>0</td>\n",
              "      <td>1</td>\n",
              "      <td>1</td>\n",
              "      <td>2</td>\n",
              "      <td>14</td>\n",
              "      <td>14</td>\n",
              "    </tr>\n",
              "    <tr>\n",
              "      <th>3</th>\n",
              "      <td>650</td>\n",
              "      <td>40</td>\n",
              "      <td>96</td>\n",
              "      <td>32</td>\n",
              "      <td>12</td>\n",
              "      <td>13</td>\n",
              "      <td>7</td>\n",
              "      <td>32</td>\n",
              "      <td>1</td>\n",
              "      <td>0</td>\n",
              "      <td>0</td>\n",
              "      <td>1</td>\n",
              "      <td>4</td>\n",
              "      <td>3</td>\n",
              "      <td>12</td>\n",
              "      <td>12</td>\n",
              "    </tr>\n",
              "    <tr>\n",
              "      <th>4</th>\n",
              "      <td>562</td>\n",
              "      <td>40</td>\n",
              "      <td>74</td>\n",
              "      <td>27</td>\n",
              "      <td>11</td>\n",
              "      <td>14</td>\n",
              "      <td>5</td>\n",
              "      <td>34</td>\n",
              "      <td>1</td>\n",
              "      <td>0</td>\n",
              "      <td>0</td>\n",
              "      <td>1</td>\n",
              "      <td>10</td>\n",
              "      <td>6</td>\n",
              "      <td>6</td>\n",
              "      <td>11</td>\n",
              "    </tr>\n",
              "  </tbody>\n",
              "</table>\n",
              "</div>"
            ],
            "text/plain": [
              "   wage  hours   IQ  KWW  educ  exper  tenure  age  married  black  south  \\\n",
              "0   769     40   93   35    12     11       2   31        1      0      0   \n",
              "1   808     50  119   41    18     11      16   37        1      0      0   \n",
              "2   825     40  108   46    14     11       9   33        1      0      0   \n",
              "3   650     40   96   32    12     13       7   32        1      0      0   \n",
              "4   562     40   74   27    11     14       5   34        1      0      0   \n",
              "\n",
              "   urban  sibs brthord meduc feduc  \n",
              "0      1     1       2     8     8  \n",
              "1      1     1       .    14    14  \n",
              "2      1     1       2    14    14  \n",
              "3      1     4       3    12    12  \n",
              "4      1    10       6     6    11  "
            ]
          },
          "execution_count": 3,
          "metadata": {},
          "output_type": "execute_result"
        }
      ],
      "source": [
        "data.head()"
      ]
    },
    {
      "cell_type": "markdown",
      "id": "390d3332",
      "metadata": {
        "id": "390d3332"
      },
      "source": [
        "#### Así que solo a la columna wage usaremos como muestra"
      ]
    },
    {
      "cell_type": "code",
      "execution_count": null,
      "id": "348de1da",
      "metadata": {
        "ExecuteTime": {
          "end_time": "2022-11-03T17:24:59.857043Z",
          "start_time": "2022-11-03T17:24:59.854702Z"
        },
        "id": "348de1da"
      },
      "outputs": [],
      "source": [
        "Salario = data['wage']"
      ]
    },
    {
      "cell_type": "code",
      "execution_count": null,
      "id": "45ca7243",
      "metadata": {
        "ExecuteTime": {
          "end_time": "2022-11-03T17:25:00.851014Z",
          "start_time": "2022-11-03T17:25:00.841579Z"
        },
        "id": "45ca7243",
        "outputId": "a23851d7-057c-440e-a1fe-eec335130a57"
      },
      "outputs": [
        {
          "data": {
            "text/plain": [
              "0       769\n",
              "1       808\n",
              "2       825\n",
              "3       650\n",
              "4       562\n",
              "       ... \n",
              "930     520\n",
              "931    1202\n",
              "932     538\n",
              "933     873\n",
              "934    1000\n",
              "Name: wage, Length: 935, dtype: int64"
            ]
          },
          "execution_count": 5,
          "metadata": {},
          "output_type": "execute_result"
        }
      ],
      "source": [
        "Salario"
      ]
    },
    {
      "cell_type": "markdown",
      "id": "351e1cc1",
      "metadata": {
        "id": "351e1cc1"
      },
      "source": [
        "#### Vamos a determinar la media de la muestra (Salario) por lo que tenemos 935 registros, esta es la razon principal para usar la prueba z porque nuestro tamaño es mas de 30 observaciones. En pocas palabras si la muestra tiene menos de 30 observaciones usaremos la prueba t student"
      ]
    },
    {
      "cell_type": "code",
      "execution_count": null,
      "id": "da2bbd54",
      "metadata": {
        "ExecuteTime": {
          "end_time": "2022-11-03T17:25:04.380862Z",
          "start_time": "2022-11-03T17:25:04.371588Z"
        },
        "scrolled": true,
        "id": "da2bbd54",
        "outputId": "cd892662-f9c9-4233-a6ab-19688289f34d"
      },
      "outputs": [
        {
          "name": "stdout",
          "output_type": "stream",
          "text": [
            "957.9454545454546\n"
          ]
        }
      ],
      "source": [
        "Salario_mean = np.mean(Salario)\n",
        "print(Salario_mean)"
      ]
    },
    {
      "cell_type": "code",
      "execution_count": null,
      "id": "d580a6dd",
      "metadata": {
        "ExecuteTime": {
          "end_time": "2022-11-01T22:46:52.612854Z",
          "start_time": "2022-11-01T22:46:52.609185Z"
        },
        "id": "d580a6dd"
      },
      "outputs": [],
      "source": [
        "# la media del salario en nuestra muestra es $957.9 dolares"
      ]
    },
    {
      "cell_type": "markdown",
      "id": "8555f1b2",
      "metadata": {
        "id": "8555f1b2"
      },
      "source": [
        "$$z= \\frac{\\bar{x}-\\mu}{\\frac{\\sigma}{\\sqrt n}}$$"
      ]
    },
    {
      "cell_type": "markdown",
      "id": "13d5e9e6",
      "metadata": {
        "id": "13d5e9e6"
      },
      "source": [
        "$$H_{o}: \\space \\space  \\mu = 957$$\n",
        "$$H_{a}: \\space \\space  \\mu \\ne 957$$"
      ]
    },
    {
      "cell_type": "code",
      "execution_count": null,
      "id": "fd828e28",
      "metadata": {
        "ExecuteTime": {
          "end_time": "2022-11-03T17:25:35.623920Z",
          "start_time": "2022-11-03T17:25:35.614802Z"
        },
        "id": "fd828e28",
        "outputId": "a744f83c-bc90-4058-9178-e5e0c10c2f45"
      },
      "outputs": [
        {
          "name": "stdout",
          "output_type": "stream",
          "text": [
            "0.9430035787340623\n"
          ]
        }
      ],
      "source": [
        "#Nuestro valor de suposicion sera la regla que determine si rechazo o no rechazo la hipotesis\n",
        "#es decir nuestra regla de desición  (957)\n",
        "\n",
        "ztest, pval = stests.ztest(data['wage'], value=957)\n",
        "print(float(pval))"
      ]
    },
    {
      "cell_type": "code",
      "execution_count": null,
      "id": "799c969e",
      "metadata": {
        "ExecuteTime": {
          "end_time": "2022-11-03T17:25:40.346114Z",
          "start_time": "2022-11-03T17:25:40.338852Z"
        },
        "id": "799c969e",
        "outputId": "524bb724-684c-4fcb-984c-bf5cf2dce88f"
      },
      "outputs": [
        {
          "name": "stdout",
          "output_type": "stream",
          "text": [
            "Acepto la hipotesis nula hay suficiente evidencia afirmar Ho, es decir no hay suficiente evidencia para afirmar Ha \n"
          ]
        }
      ],
      "source": [
        "if pval<0.05:\n",
        "    print(\"Rechazo la hipóptesis nula, es decir hay suficiente evidencia para afirmar Ha\")\n",
        "else:\n",
        "    print(\"Acepto la hipotesis nula hay suficiente evidencia afirmar Ho, es decir no hay suficiente evidencia para afirmar Ha \")"
      ]
    }
  ],
  "metadata": {
    "kernelspec": {
      "display_name": "Python 3 (ipykernel)",
      "language": "python",
      "name": "python3"
    },
    "language_info": {
      "codemirror_mode": {
        "name": "ipython",
        "version": 3
      },
      "file_extension": ".py",
      "mimetype": "text/x-python",
      "name": "python",
      "nbconvert_exporter": "python",
      "pygments_lexer": "ipython3",
      "version": "3.9.12"
    },
    "colab": {
      "provenance": [],
      "include_colab_link": true
    }
  },
  "nbformat": 4,
  "nbformat_minor": 5
}